{
 "cells": [
  {
   "cell_type": "code",
   "execution_count": 1,
   "metadata": {
    "ExecuteTime": {
     "end_time": "2021-03-02T10:06:58.081378Z",
     "start_time": "2021-03-02T10:06:57.783211Z"
    }
   },
   "outputs": [],
   "source": [
    "import numpy as np\n",
    "class Log_Reg:\n",
    "    \n",
    "    def __init__ (self, lr = 0.001, n_iter = 10000):\n",
    "        \n",
    "        # Initilizaing learning rate and no. of iteration\n",
    "        self.lr = lr\n",
    "        self.n_iter = n_iter\n",
    "        self.weights = None\n",
    "    \n",
    "    def fit(self, X, y):\n",
    "        \n",
    "        n_samples, n_features = X.shape\n",
    "        self.weights = np.zeros(n_features)\n",
    "        self.bais = 0\n",
    "        cost_lst = []\n",
    "        for i in range(self.n_iter):\n",
    "            \n",
    "            linear_model = np.dot(X, self.weights) + self.bais\n",
    "            y_pred = 1 / (1 + np.exp(-linear_model))\n",
    "            cost = -(1/n_samples)*np.sum(y*np.log(y_pred) + (1-y)*np.log(1-y_pred))\n",
    "            cost_lst.append(cost)\n",
    "            dw = (1/n_samples)*np.dot(X.T, (y_pred - y))\n",
    "            db = (1/n_samples)*np.sum(y_pred - y)\n",
    "            \n",
    "            self.weights -= self.lr*dw\n",
    "            self.bais -= self.lr*db\n",
    "            \n",
    "        \n",
    "            \n",
    "    def predict(self, X):\n",
    "        \n",
    "        linear_model = np.dot(X, self.weights) + self.bais\n",
    "        y_pred =  1 /(1 + np.exp(-linear_model))\n",
    "        y_pred = [1 if i > 0.5 else 0 for i in y_pred]\n",
    "        \n",
    "        return y_pred "
   ]
  },
  {
   "cell_type": "code",
   "execution_count": null,
   "metadata": {},
   "outputs": [],
   "source": []
  }
 ],
 "metadata": {
  "kernelspec": {
   "display_name": "Python 3",
   "language": "python",
   "name": "python3"
  },
  "language_info": {
   "codemirror_mode": {
    "name": "ipython",
    "version": 3
   },
   "file_extension": ".py",
   "mimetype": "text/x-python",
   "name": "python",
   "nbconvert_exporter": "python",
   "pygments_lexer": "ipython3",
   "version": "3.8.3"
  },
  "toc": {
   "base_numbering": 1,
   "nav_menu": {},
   "number_sections": true,
   "sideBar": true,
   "skip_h1_title": false,
   "title_cell": "Table of Contents",
   "title_sidebar": "Contents",
   "toc_cell": false,
   "toc_position": {},
   "toc_section_display": true,
   "toc_window_display": false
  }
 },
 "nbformat": 4,
 "nbformat_minor": 4
}
