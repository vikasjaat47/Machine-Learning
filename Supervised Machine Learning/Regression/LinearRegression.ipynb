{
 "cells": [
  {
   "cell_type": "markdown",
   "metadata": {},
   "source": [
    " # Linear Regression"
   ]
  },
  {
   "cell_type": "code",
   "execution_count": 1,
   "metadata": {
    "ExecuteTime": {
     "end_time": "2021-03-01T16:00:31.419900Z",
     "start_time": "2021-03-01T16:00:30.983696Z"
    }
   },
   "outputs": [],
   "source": [
    "import numpy as np\n",
    "\n",
    "class LR_from_scratch:\n",
    "    \n",
    "    def __init__(self, lr = 0.0001, n_iter = 10000):\n",
    "        self.lr = lr\n",
    "        self.n_iter = n_iter\n",
    "        self.weights = None\n",
    "        self.bais = None\n",
    "        \n",
    "    def fit(self, X, y):\n",
    "        n_samples, n_features = X.shape\n",
    "        self.weights = np.zeros(n_features)\n",
    "        self.bais = 0\n",
    "        for i in range(self.n_iter):\n",
    "            \n",
    "            y_prid = np.dot(X, self.weights) + self.bais\n",
    "            cost = np.sum((y_prid - y)**2)/(2*n_samples)\n",
    "            self.weights = self.weights - (self.lr/n_samples)*(np.dot(X.T, (y_prid-y)))\n",
    "            self.bais = self.bais - (self.lr/n_samples)*sum(y_prid - y)\n",
    "        print(\"final_cost is = \", cost)\n",
    "        \n",
    "    \n",
    "    def predict(self, X):\n",
    "        \n",
    "        y_prid = np.dot(X, self.weights) + self.bais\n",
    "        return y_prid\n",
    "    \n",
    "    def R_squared(self, X, y):\n",
    "        \n",
    "        y_prid = np.dot(X, self.weights) + self.bais\n",
    "        u = sum((y-y_prid)**2)\n",
    "        v = sum((y-np.mean(y))**2)\n",
    "        score = 1-(u/v)\n",
    "        return score"
   ]
  },
  {
   "cell_type": "code",
   "execution_count": null,
   "metadata": {},
   "outputs": [],
   "source": []
  }
 ],
 "metadata": {
  "kernelspec": {
   "display_name": "Python 3",
   "language": "python",
   "name": "python3"
  },
  "language_info": {
   "codemirror_mode": {
    "name": "ipython",
    "version": 3
   },
   "file_extension": ".py",
   "mimetype": "text/x-python",
   "name": "python",
   "nbconvert_exporter": "python",
   "pygments_lexer": "ipython3",
   "version": "3.8.3"
  },
  "toc": {
   "base_numbering": 1,
   "nav_menu": {},
   "number_sections": true,
   "sideBar": true,
   "skip_h1_title": false,
   "title_cell": "Table of Contents",
   "title_sidebar": "Contents",
   "toc_cell": false,
   "toc_position": {},
   "toc_section_display": true,
   "toc_window_display": false
  }
 },
 "nbformat": 4,
 "nbformat_minor": 4
}
